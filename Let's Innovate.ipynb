{
 "cells": [
  {
   "cell_type": "code",
   "execution_count": 1,
   "metadata": {},
   "outputs": [
    {
     "name": "stdout",
     "output_type": "stream",
     "text": [
      "Program for App\n",
      "Hi, What you want to listen!\n",
      "Songs\n",
      "Podcast\n",
      "Tell me your choice\n",
      "Podcast\n",
      "What type of podcast you want to listen\n",
      "Spiritual Discourse\n",
      "Here are Spiritual Discourse for you\n"
     ]
    }
   ],
   "source": [
    "print(\"Program for App\")\n",
    "S=\"Songs\"\n",
    "mood1=\"Happy\"\n",
    "mood2=\"Spiritual Songs\"\n",
    "mood3=\"Calm\"\n",
    "S1=\"Stories\"\n",
    "S2=\"Spiritual Discourse\"\n",
    "\n",
    "print(\"Hi, What you want to listen!\")\n",
    "print(\"Songs\")\n",
    "print(\"Podcast\")\n",
    "str1=input(\"Tell me your choice\\n\")\n",
    "if(str1==S):\n",
    "    str2=input(\"please tell me your mood\\n\")\n",
    "    if(str2==mood1):\n",
    "        print(\"Here are Happy Songs according to your mood\")\n",
    "    elif(str2==mood2):\n",
    "         print(\"Here are Spiritual Songs according to your mood\")\n",
    "    else:\n",
    "        print(\"Here are Peaceful Songs for you\")           \n",
    "else:  \n",
    "    str3=input(\"What type of podcast you want to listen\\n\")\n",
    "    if(str3==S1):\n",
    "        print(\"Here are stories for you\")\n",
    "    elif(str3==S2):\n",
    "        print(\"Here are Spiritual Discourse for you\")\n",
    "        \n"
   ]
  },
  {
   "cell_type": "code",
   "execution_count": null,
   "metadata": {},
   "outputs": [],
   "source": []
  },
  {
   "cell_type": "code",
   "execution_count": null,
   "metadata": {},
   "outputs": [],
   "source": []
  },
  {
   "cell_type": "code",
   "execution_count": null,
   "metadata": {},
   "outputs": [],
   "source": []
  },
  {
   "cell_type": "code",
   "execution_count": null,
   "metadata": {},
   "outputs": [],
   "source": []
  },
  {
   "cell_type": "code",
   "execution_count": null,
   "metadata": {},
   "outputs": [],
   "source": []
  }
 ],
 "metadata": {
  "kernelspec": {
   "display_name": "Python 3",
   "language": "python",
   "name": "python3"
  },
  "language_info": {
   "codemirror_mode": {
    "name": "ipython",
    "version": 3
   },
   "file_extension": ".py",
   "mimetype": "text/x-python",
   "name": "python",
   "nbconvert_exporter": "python",
   "pygments_lexer": "ipython3",
   "version": "3.7.3"
  }
 },
 "nbformat": 4,
 "nbformat_minor": 2
}
